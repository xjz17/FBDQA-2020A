{
 "cells": [
  {
   "cell_type": "code",
   "execution_count": 1,
   "metadata": {},
   "outputs": [
    {
     "data": {
      "text/plain": [
       "0.7477865000000001"
      ]
     },
     "execution_count": 1,
     "metadata": {},
     "output_type": "execute_result"
    }
   ],
   "source": [
    "import time\n",
    "import numpy as np\n",
    "import numexpr as ne\n",
    "nx, ny = 1200, 1500\n",
    "a = np.linspace(0. , 3.1416, nx*ny).reshape(nx,ny)\n",
    "x = time.perf_counter()\n",
    "for i in range(100):\n",
    "    # b = np.sin(a+i)**2 + np.cos(a+i)**2 + a**1.5\n",
    "    b = ne.evaluate(\"sin(a+i)**2 + cos(a+i)**2 + a**1.5\")\n",
    "y = time.perf_counter()\n",
    "y-x"
   ]
  },
  {
   "cell_type": "code",
   "execution_count": null,
   "metadata": {},
   "outputs": [],
   "source": []
  }
 ],
 "metadata": {
  "kernelspec": {
   "display_name": "Python 3",
   "language": "python",
   "name": "python3"
  },
  "language_info": {
   "codemirror_mode": {
    "name": "ipython",
    "version": 3
   },
   "file_extension": ".py",
   "mimetype": "text/x-python",
   "name": "python",
   "nbconvert_exporter": "python",
   "pygments_lexer": "ipython3",
   "version": "3.7.4"
  }
 },
 "nbformat": 4,
 "nbformat_minor": 2
}
